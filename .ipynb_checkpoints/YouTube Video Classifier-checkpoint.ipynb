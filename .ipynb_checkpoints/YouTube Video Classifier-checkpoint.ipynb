{
 "cells": [
  {
   "cell_type": "markdown",
   "metadata": {},
   "source": [
    "# YouTube Video Classifier\n",
    "\n",
    "In this project, I am going to try and predict the category of a video from YouTube based on its description.\n",
    "The dataset used in this project is obtained from Kaggle: https://www.kaggle.com/rahulanand0070/youtubevideodataset\n",
    "\n",
    "- Goal: Predict the category that the video belongs to using various classifier models and determine which model is the most suitable for the task.\n",
    "- Input feature(s): Description (for the purpose of simplifying the project, I do not take the title of the video into account. The title can be used as an input feature in later update)\n",
    "- Output feature: Category "
   ]
  },
  {
   "cell_type": "markdown",
   "metadata": {},
   "source": [
    "## Data Overview"
   ]
  },
  {
   "cell_type": "markdown",
   "metadata": {},
   "source": [
    "### Importing libraries and reading the dataset"
   ]
  },
  {
   "cell_type": "code",
   "execution_count": 89,
   "metadata": {},
   "outputs": [],
   "source": [
    "import re\n",
    "import time\n",
    "\n",
    "import pandas as pd\n",
    "import numpy as np\n",
    "import matplotlib.pyplot as plt\n",
    "\n",
    "from sklearn.model_selection import cross_val_score\n",
    "from sklearn.model_selection import KFold\n",
    "from sklearn.model_selection import train_test_split\n",
    "from sklearn.pipeline import Pipeline\n",
    "from sklearn import metrics\n",
    "from sklearn.feature_extraction.text import TfidfVectorizer\n",
    "\n",
    "from sklearn.neighbors import KNeighborsClassifier\n",
    "from sklearn.svm import SVC\n",
    "from sklearn.linear_model import LogisticRegression\n",
    "from sklearn.tree import DecisionTreeClassifier\n",
    "from sklearn.ensemble import RandomForestClassifier"
   ]
  },
  {
   "cell_type": "code",
   "execution_count": 90,
   "metadata": {},
   "outputs": [
    {
     "data": {
      "text/html": [
       "<div>\n",
       "<style scoped>\n",
       "    .dataframe tbody tr th:only-of-type {\n",
       "        vertical-align: middle;\n",
       "    }\n",
       "\n",
       "    .dataframe tbody tr th {\n",
       "        vertical-align: top;\n",
       "    }\n",
       "\n",
       "    .dataframe thead th {\n",
       "        text-align: right;\n",
       "    }\n",
       "</style>\n",
       "<table border=\"1\" class=\"dataframe\">\n",
       "  <thead>\n",
       "    <tr style=\"text-align: right;\">\n",
       "      <th></th>\n",
       "      <th>Title</th>\n",
       "      <th>Videourl</th>\n",
       "      <th>Category</th>\n",
       "      <th>Description</th>\n",
       "    </tr>\n",
       "  </thead>\n",
       "  <tbody>\n",
       "    <tr>\n",
       "      <th>0</th>\n",
       "      <td>Madagascar Street Food!!! Super RARE Malagasy ...</td>\n",
       "      <td>/watch?v=EwBA1fOQ96c</td>\n",
       "      <td>Food</td>\n",
       "      <td>🎥GIANT ALIEN SNAIL IN JAPAN! » https://youtu.b...</td>\n",
       "    </tr>\n",
       "    <tr>\n",
       "      <th>1</th>\n",
       "      <td>42 Foods You Need To Eat Before You Die</td>\n",
       "      <td>/watch?v=0SPwwpruGIA</td>\n",
       "      <td>Food</td>\n",
       "      <td>This is the ultimate must-try food bucket list...</td>\n",
       "    </tr>\n",
       "    <tr>\n",
       "      <th>2</th>\n",
       "      <td>Gordon Ramsay’s Top 5 Indian Dishes</td>\n",
       "      <td>/watch?v=upfu5nQB2ks</td>\n",
       "      <td>Food</td>\n",
       "      <td>We found 5 of the best and most interesting In...</td>\n",
       "    </tr>\n",
       "    <tr>\n",
       "      <th>3</th>\n",
       "      <td>How To Use Chopsticks - In About A Minute 🍜</td>\n",
       "      <td>/watch?v=xFRzzSF_6gk</td>\n",
       "      <td>Food</td>\n",
       "      <td>You're most likely sitting in a restaurant wit...</td>\n",
       "    </tr>\n",
       "    <tr>\n",
       "      <th>4</th>\n",
       "      <td>Trying Indian Food 1st Time!</td>\n",
       "      <td>/watch?v=K79bXtaRwcM</td>\n",
       "      <td>Food</td>\n",
       "      <td>HELP SUPPORT SINSTV!! Shop Our Sponsors!\\nLast...</td>\n",
       "    </tr>\n",
       "  </tbody>\n",
       "</table>\n",
       "</div>"
      ],
      "text/plain": [
       "                                               Title              Videourl  \\\n",
       "0  Madagascar Street Food!!! Super RARE Malagasy ...  /watch?v=EwBA1fOQ96c   \n",
       "1            42 Foods You Need To Eat Before You Die  /watch?v=0SPwwpruGIA   \n",
       "2                Gordon Ramsay’s Top 5 Indian Dishes  /watch?v=upfu5nQB2ks   \n",
       "3        How To Use Chopsticks - In About A Minute 🍜  /watch?v=xFRzzSF_6gk   \n",
       "4                       Trying Indian Food 1st Time!  /watch?v=K79bXtaRwcM   \n",
       "\n",
       "  Category                                        Description  \n",
       "0     Food  🎥GIANT ALIEN SNAIL IN JAPAN! » https://youtu.b...  \n",
       "1     Food  This is the ultimate must-try food bucket list...  \n",
       "2     Food  We found 5 of the best and most interesting In...  \n",
       "3     Food  You're most likely sitting in a restaurant wit...  \n",
       "4     Food  HELP SUPPORT SINSTV!! Shop Our Sponsors!\\nLast...  "
      ]
     },
     "execution_count": 90,
     "metadata": {},
     "output_type": "execute_result"
    }
   ],
   "source": [
    "df = pd.read_csv('./Youtube Video Dataset.csv')\n",
    "df.head()"
   ]
  },
  {
   "cell_type": "markdown",
   "metadata": {},
   "source": [
    "### Dataset Exploratory Analysis"
   ]
  },
  {
   "cell_type": "code",
   "execution_count": 91,
   "metadata": {},
   "outputs": [
    {
     "data": {
      "text/plain": [
       "(11211, 4)"
      ]
     },
     "execution_count": 91,
     "metadata": {},
     "output_type": "execute_result"
    }
   ],
   "source": [
    "df.shape"
   ]
  },
  {
   "cell_type": "code",
   "execution_count": 92,
   "metadata": {},
   "outputs": [
    {
     "name": "stdout",
     "output_type": "stream",
     "text": [
      "The dataset has 11211 rows and 4 columns\n"
     ]
    }
   ],
   "source": [
    "nRows = df.shape[0]\n",
    "nCols = df.shape[1]\n",
    "print('The dataset has', nRows, 'rows and', nCols, 'columns')"
   ]
  },
  {
   "cell_type": "code",
   "execution_count": 93,
   "metadata": {},
   "outputs": [
    {
     "data": {
      "text/plain": [
       "Title          object\n",
       "Videourl       object\n",
       "Category       object\n",
       "Description    object\n",
       "dtype: object"
      ]
     },
     "execution_count": 93,
     "metadata": {},
     "output_type": "execute_result"
    }
   ],
   "source": [
    "df.dtypes"
   ]
  },
  {
   "cell_type": "code",
   "execution_count": 94,
   "metadata": {},
   "outputs": [
    {
     "data": {
      "text/plain": [
       "Index(['Title', 'Videourl', 'Category', 'Description'], dtype='object')"
      ]
     },
     "execution_count": 94,
     "metadata": {},
     "output_type": "execute_result"
    }
   ],
   "source": [
    "df.columns"
   ]
  },
  {
   "cell_type": "markdown",
   "metadata": {},
   "source": [
    "### Checking for missing field\n",
    "Since I am only considering the description of the videos in this project, I will drop any row that is missing description attribute."
   ]
  },
  {
   "cell_type": "code",
   "execution_count": 95,
   "metadata": {},
   "outputs": [
    {
     "data": {
      "text/plain": [
       "Title           0\n",
       "Videourl        0\n",
       "Category        0\n",
       "Description    83\n",
       "dtype: int64"
      ]
     },
     "execution_count": 95,
     "metadata": {},
     "output_type": "execute_result"
    }
   ],
   "source": [
    "df.isnull().sum(axis=0)"
   ]
  },
  {
   "cell_type": "code",
   "execution_count": 96,
   "metadata": {},
   "outputs": [
    {
     "data": {
      "text/plain": [
       "Title          0\n",
       "Videourl       0\n",
       "Category       0\n",
       "Description    0\n",
       "dtype: int64"
      ]
     },
     "execution_count": 96,
     "metadata": {},
     "output_type": "execute_result"
    }
   ],
   "source": [
    "df = df.dropna()\n",
    "df.isnull().sum()"
   ]
  },
  {
   "cell_type": "markdown",
   "metadata": {},
   "source": [
    "### Checking the value count of different categories"
   ]
  },
  {
   "cell_type": "code",
   "execution_count": 97,
   "metadata": {},
   "outputs": [
    {
     "data": {
      "text/plain": [
       "travel blog           2200\n",
       "Science&Technology    2074\n",
       "Food                  1828\n",
       "manufacturing         1699\n",
       "Art&Music             1682\n",
       "History               1645\n",
       "Name: Category, dtype: int64"
      ]
     },
     "execution_count": 97,
     "metadata": {},
     "output_type": "execute_result"
    }
   ],
   "source": [
    "df['Category'].value_counts()"
   ]
  },
  {
   "cell_type": "markdown",
   "metadata": {},
   "source": [
    "Since the value counts of the categories are relatively even, I do not need to modify anything"
   ]
  },
  {
   "cell_type": "markdown",
   "metadata": {},
   "source": [
    "### Cleaning up text\n",
    "Converting all texts to lowercase, removing urls, emails and special characters that might affect the accuracy of the model by using regex."
   ]
  },
  {
   "cell_type": "code",
   "execution_count": 98,
   "metadata": {},
   "outputs": [
    {
     "name": "stdout",
     "output_type": "stream",
     "text": [
      "execution time: 7.80592200000001\n"
     ]
    }
   ],
   "source": [
    "start = time.process_time()\n",
    "for i, row in df.iterrows():\n",
    "    #lowercase\n",
    "    desc = str(row['Description']).lower()\n",
    "    #remove urls\n",
    "    desc = re.sub('((http|ftp|https):\\/\\/)?[\\w\\-_]+(\\.[\\w\\-_]+)+([\\w\\-\\.,@?^=%&;:/~\\+#]*[\\w\\-\\@?^=%&;/~\\+#])?', ' ', desc)\n",
    "    #remove emails\n",
    "    desc = re.sub('([a-zA-Z0-9_.+-]+@[a-zA-Z0-9-]+\\.[a-zA-Z0-9-.]+)', ' ', desc)\n",
    "    #remove special chars\n",
    "    desc = re.sub('[^A-Za-z\\s]', '', desc)\n",
    "    desc = re.sub('\\s+', ' ', desc)\n",
    "    df.at[i, 'Description'] = desc\n",
    "print('execution time:', time.process_time()-start)"
   ]
  },
  {
   "cell_type": "code",
   "execution_count": 99,
   "metadata": {},
   "outputs": [
    {
     "data": {
      "text/html": [
       "<div>\n",
       "<style scoped>\n",
       "    .dataframe tbody tr th:only-of-type {\n",
       "        vertical-align: middle;\n",
       "    }\n",
       "\n",
       "    .dataframe tbody tr th {\n",
       "        vertical-align: top;\n",
       "    }\n",
       "\n",
       "    .dataframe thead th {\n",
       "        text-align: right;\n",
       "    }\n",
       "</style>\n",
       "<table border=\"1\" class=\"dataframe\">\n",
       "  <thead>\n",
       "    <tr style=\"text-align: right;\">\n",
       "      <th></th>\n",
       "      <th>Title</th>\n",
       "      <th>Videourl</th>\n",
       "      <th>Category</th>\n",
       "      <th>Description</th>\n",
       "    </tr>\n",
       "  </thead>\n",
       "  <tbody>\n",
       "    <tr>\n",
       "      <th>0</th>\n",
       "      <td>Madagascar Street Food!!! Super RARE Malagasy ...</td>\n",
       "      <td>/watch?v=EwBA1fOQ96c</td>\n",
       "      <td>Food</td>\n",
       "      <td>giant alien snail in japan go on your tour of ...</td>\n",
       "    </tr>\n",
       "    <tr>\n",
       "      <th>1</th>\n",
       "      <td>42 Foods You Need To Eat Before You Die</td>\n",
       "      <td>/watch?v=0SPwwpruGIA</td>\n",
       "      <td>Food</td>\n",
       "      <td>this is the ultimate musttry food bucket list ...</td>\n",
       "    </tr>\n",
       "    <tr>\n",
       "      <th>2</th>\n",
       "      <td>Gordon Ramsay’s Top 5 Indian Dishes</td>\n",
       "      <td>/watch?v=upfu5nQB2ks</td>\n",
       "      <td>Food</td>\n",
       "      <td>we found of the best and most interesting indi...</td>\n",
       "    </tr>\n",
       "    <tr>\n",
       "      <th>3</th>\n",
       "      <td>How To Use Chopsticks - In About A Minute 🍜</td>\n",
       "      <td>/watch?v=xFRzzSF_6gk</td>\n",
       "      <td>Food</td>\n",
       "      <td>youre most likely sitting in a restaurant with...</td>\n",
       "    </tr>\n",
       "    <tr>\n",
       "      <th>4</th>\n",
       "      <td>Trying Indian Food 1st Time!</td>\n",
       "      <td>/watch?v=K79bXtaRwcM</td>\n",
       "      <td>Food</td>\n",
       "      <td>help support sinstv shop our sponsors last lon...</td>\n",
       "    </tr>\n",
       "  </tbody>\n",
       "</table>\n",
       "</div>"
      ],
      "text/plain": [
       "                                               Title              Videourl  \\\n",
       "0  Madagascar Street Food!!! Super RARE Malagasy ...  /watch?v=EwBA1fOQ96c   \n",
       "1            42 Foods You Need To Eat Before You Die  /watch?v=0SPwwpruGIA   \n",
       "2                Gordon Ramsay’s Top 5 Indian Dishes  /watch?v=upfu5nQB2ks   \n",
       "3        How To Use Chopsticks - In About A Minute 🍜  /watch?v=xFRzzSF_6gk   \n",
       "4                       Trying Indian Food 1st Time!  /watch?v=K79bXtaRwcM   \n",
       "\n",
       "  Category                                        Description  \n",
       "0     Food  giant alien snail in japan go on your tour of ...  \n",
       "1     Food  this is the ultimate musttry food bucket list ...  \n",
       "2     Food  we found of the best and most interesting indi...  \n",
       "3     Food  youre most likely sitting in a restaurant with...  \n",
       "4     Food  help support sinstv shop our sponsors last lon...  "
      ]
     },
     "execution_count": 99,
     "metadata": {},
     "output_type": "execute_result"
    }
   ],
   "source": [
    "df.head()"
   ]
  },
  {
   "cell_type": "markdown",
   "metadata": {},
   "source": [
    "## Training and Testing"
   ]
  },
  {
   "cell_type": "markdown",
   "metadata": {},
   "source": [
    "### Defining input and output features"
   ]
  },
  {
   "cell_type": "code",
   "execution_count": 100,
   "metadata": {},
   "outputs": [],
   "source": [
    "X = df['Description']\n",
    "y = df['Category']"
   ]
  },
  {
   "cell_type": "markdown",
   "metadata": {},
   "source": [
    "### Declaring TFIDF vectorizer and classifiers\n",
    "\n",
    "Since descriptions are strings, I need to convert them into feature vectors before working with them. In order to do that, I used sklearn's TfidfVectorizer.\n",
    "\n",
    "I set stop_words='english' so that stop words (words that does not represent the content of the text such as 'the' or 'and') are removed from the descriptions. When training the models without removing stop words, I found that the accuracy is reduced across all models from 0.54% (SVM) to 3.75% (K-Nearest Neighbors)\n",
    "\n",
    "In order for the TFIDF vectorizer to be applied to the description for training and testing, I use sklearn's Pipeline.\n",
    "\n",
    "The classifier models that I will be training and testing are:\n",
    "- K-Nearest Neighbors\n",
    "- Logistic Regression\n",
    "- Support Vector Machine (SVM)\n",
    "- Decision Tree\n",
    "- Random Forest"
   ]
  },
  {
   "cell_type": "code",
   "execution_count": 101,
   "metadata": {},
   "outputs": [
    {
     "name": "stdout",
     "output_type": "stream",
     "text": [
      "done\n"
     ]
    }
   ],
   "source": [
    "vectorizer = TfidfVectorizer(stop_words='english')\n",
    "knn_clf = Pipeline([('tfidf', vectorizer), ('clf', KNeighborsClassifier(n_neighbors = 75))])\n",
    "log_reg_clf = Pipeline([('tfidf', vectorizer), ('clf', LogisticRegression(max_iter=1000, random_state=10))])\n",
    "svm_clf = Pipeline([('tfidf', vectorizer), ('clf', SVC(C=1.5, random_state=10))])\n",
    "dec_tree_clf = Pipeline([('tfidf', vectorizer), ('clf', DecisionTreeClassifier())])\n",
    "rand_forest_clf = Pipeline([('tfidf', vectorizer), ('clf', RandomForestClassifier(n_estimators=200))])\n",
    "print('done')"
   ]
  },
  {
   "cell_type": "markdown",
   "metadata": {},
   "source": [
    "To measure the effectiveness of the classifiers, I run K-fold cross validations and compare the scores of the models."
   ]
  },
  {
   "cell_type": "markdown",
   "metadata": {},
   "source": [
    "#### Setting up K-Fold"
   ]
  },
  {
   "cell_type": "code",
   "execution_count": 102,
   "metadata": {},
   "outputs": [],
   "source": [
    "kfold = KFold(n_splits=5, random_state=10, shuffle=True)"
   ]
  },
  {
   "cell_type": "markdown",
   "metadata": {},
   "source": [
    "#### Measuring the scores of different models (accuracy percentage)"
   ]
  },
  {
   "cell_type": "code",
   "execution_count": 103,
   "metadata": {},
   "outputs": [
    {
     "name": "stdout",
     "output_type": "stream",
     "text": [
      "K-Nearest Neighbor Score: 85.37\n"
     ]
    }
   ],
   "source": [
    "knn_score = round(cross_val_score(knn_clf, X, y, cv = kfold, scoring = 'accuracy').mean() * 100, 2)\n",
    "print(\"K-Nearest Neighbor Score:\", knn_score)"
   ]
  },
  {
   "cell_type": "code",
   "execution_count": 104,
   "metadata": {},
   "outputs": [
    {
     "name": "stdout",
     "output_type": "stream",
     "text": [
      "Logistic Regression Score: 90.71\n"
     ]
    }
   ],
   "source": [
    "log_reg_score = round(cross_val_score(log_reg_clf, X, y, cv = kfold, scoring = 'accuracy').mean() * 100, 2)\n",
    "print(\"Logistic Regression Score:\", log_reg_score)"
   ]
  },
  {
   "cell_type": "code",
   "execution_count": 105,
   "metadata": {},
   "outputs": [
    {
     "name": "stdout",
     "output_type": "stream",
     "text": [
      "Decision Tree Score: 82.42\n"
     ]
    }
   ],
   "source": [
    "dec_tree_score = round(cross_val_score(dec_tree_clf, X, y, cv = kfold, scoring = 'accuracy').mean() * 100, 2)\n",
    "print(\"Decision Tree Score:\", dec_tree_score)"
   ]
  },
  {
   "cell_type": "code",
   "execution_count": 106,
   "metadata": {},
   "outputs": [
    {
     "name": "stdout",
     "output_type": "stream",
     "text": [
      "Random Forest Score: 90.06\n"
     ]
    }
   ],
   "source": [
    "rand_forest_score = round(cross_val_score(rand_forest_clf, X, y, cv = kfold, scoring = 'accuracy').mean() * 100, 2)\n",
    "print(\"Random Forest Score:\", rand_forest_score)"
   ]
  },
  {
   "cell_type": "code",
   "execution_count": 107,
   "metadata": {},
   "outputs": [
    {
     "name": "stdout",
     "output_type": "stream",
     "text": [
      "SVM Score: 90.74\n"
     ]
    }
   ],
   "source": [
    "svm_score = round(cross_val_score(svm_clf, X, y, cv = kfold, scoring = 'accuracy').mean() * 100, 2)\n",
    "print(\"SVM Score:\", svm_score)"
   ]
  },
  {
   "cell_type": "markdown",
   "metadata": {},
   "source": [
    "## Conclusion\n",
    "\n",
    "By using K-Fold cross validation, I found that SVM and Logistic Regression have roughly equal and the highest accuracy for this project, at 90.74% and 90.71% respectively, followed closely by Random Forest at 90.06% accuracy. K-Nearest Neighbors and Decision Tree still have pretty acceptable accuracy at 85.37% and 82.42% respectively, but their performances are simply not up to par with the other models mentioned above.\n",
    "All of the scores are calculated after training the models with the best hyperparameter values that I could find for each model. The hyperparameters include:\n",
    "\n",
    "- K-Nearest Neighbors: number of neighbors = 75\n",
    "- Logistic Regression: max number of iterations = 1000\n",
    "- Support Vector Machine: C = 1.5\n",
    "- Decision Tree: default value\n",
    "- Random Forest: number of trees = 200"
   ]
  },
  {
   "cell_type": "code",
   "execution_count": null,
   "metadata": {},
   "outputs": [],
   "source": []
  }
 ],
 "metadata": {
  "kernelspec": {
   "display_name": "Python 3",
   "language": "python",
   "name": "python3"
  },
  "language_info": {
   "codemirror_mode": {
    "name": "ipython",
    "version": 3
   },
   "file_extension": ".py",
   "mimetype": "text/x-python",
   "name": "python",
   "nbconvert_exporter": "python",
   "pygments_lexer": "ipython3",
   "version": "3.7.5"
  }
 },
 "nbformat": 4,
 "nbformat_minor": 2
}
